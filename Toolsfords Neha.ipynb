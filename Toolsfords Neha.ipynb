{
 "cells": [
  {
   "cell_type": "markdown",
   "id": "024a099c",
   "metadata": {},
   "source": [
    "# My Jupyter Notebook on IBM Watson Studio"
   ]
  },
  {
   "cell_type": "markdown",
   "id": "39542293",
   "metadata": {},
   "source": [
    "**Neha George**\n"
   ]
  },
  {
   "cell_type": "markdown",
   "id": "5869819d",
   "metadata": {},
   "source": [
    "Data Analyst"
   ]
  },
  {
   "cell_type": "markdown",
   "id": "273ea448",
   "metadata": {},
   "source": [
    "*Im interested in data science cause it fascinates me. I feel it unlocks a lot of doors in terms of career and since I like everything i've learnt i should pursue it as a career*"
   ]
  },
  {
   "cell_type": "markdown",
   "id": "96c44df7",
   "metadata": {},
   "source": [
    "### The following code will print hello world"
   ]
  },
  {
   "cell_type": "code",
   "execution_count": 1,
   "id": "0f223749",
   "metadata": {},
   "outputs": [
    {
     "name": "stdout",
     "output_type": "stream",
     "text": [
      "hello world\n"
     ]
    }
   ],
   "source": [
    "print('hello world')"
   ]
  },
  {
   "cell_type": "markdown",
   "id": "9fa6d2ed",
   "metadata": {},
   "source": [
    "> my favourite bands are \n",
    "<br> <br>\n",
    " ~~nickelback\n",
    " - dio\n",
    " - black sabbath\n",
    " - rainbow \n",
    " \n",
    " "
   ]
  },
  {
   "cell_type": "code",
   "execution_count": null,
   "id": "508d0ca2",
   "metadata": {},
   "outputs": [],
   "source": []
  }
 ],
 "metadata": {
  "kernelspec": {
   "display_name": "Python 3 (ipykernel)",
   "language": "python",
   "name": "python3"
  },
  "language_info": {
   "codemirror_mode": {
    "name": "ipython",
    "version": 3
   },
   "file_extension": ".py",
   "mimetype": "text/x-python",
   "name": "python",
   "nbconvert_exporter": "python",
   "pygments_lexer": "ipython3",
   "version": "3.9.7"
  }
 },
 "nbformat": 4,
 "nbformat_minor": 5
}
